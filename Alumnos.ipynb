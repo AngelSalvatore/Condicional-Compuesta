Alumno1C1 = int(input("Ingresa la primera calificaión:"))
Alumno1C2 = int(input("Ingresa la segunda calificaión:"))

Alumno2C1 = int(input("Ingresa la primera calificaión:"))
Alumno2C2 = int(input("Ingresa la segunda calificaión:"))

Alumno3C1 = int(input("Ingresa la primera calificaión:"))
Alumno3C2 = int(input("Ingresa la segunda calificaión:"))


Promedio1 = (Alumno1C1 + Alumno1C2)/2
Promedio2 = (Alumno2C1 + Alumno2C2)/2
Promedio3 = (Alumno3C1 + Alumno3C2)/2

if (Promedio1 > Promedio2 and Promedio1 > Promedio3):
    print("El promediomás alto es ", Promedio1)
else:
    if(Promedio2 > Promedio3):
        print("El promedio más alto es ", Promedio2)
    else:
        print("El promedio más alto es ", Promedo3)
